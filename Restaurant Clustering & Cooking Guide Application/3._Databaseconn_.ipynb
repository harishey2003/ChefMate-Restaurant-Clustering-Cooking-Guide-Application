{
 "cells": [
  {
   "cell_type": "code",
   "execution_count": 1,
   "id": "caa3cbab",
   "metadata": {},
   "outputs": [
    {
     "name": "stdout",
     "output_type": "stream",
     "text": [
      "Requirement already satisfied: psycopg2-binary in c:\\users\\lenovo\\anaconda3\\lib\\site-packages (2.9.10)\n",
      "Note: you may need to restart the kernel to use updated packages.\n"
     ]
    }
   ],
   "source": [
    "pip install psycopg2-binary"
   ]
  },
  {
   "cell_type": "code",
   "execution_count": 2,
   "id": "9bf0f2ec",
   "metadata": {},
   "outputs": [
    {
     "name": "stdout",
     "output_type": "stream",
     "text": [
      "Requirement already satisfied: mysql-connector-python in c:\\users\\lenovo\\anaconda3\\lib\\site-packages (9.1.0)\n",
      "Note: you may need to restart the kernel to use updated packages.\n"
     ]
    }
   ],
   "source": [
    "pip install mysql-connector-python"
   ]
  },
  {
   "cell_type": "code",
   "execution_count": 3,
   "id": "e2c22210",
   "metadata": {},
   "outputs": [],
   "source": [
    "# import libraries\n",
    "import pandas as pd\n",
    "import numpy as np\n",
    "import mysql.connector\n",
    "import sqlalchemy\n",
    "import warnings\n",
    "warnings.filterwarnings('ignore')"
   ]
  },
  {
   "cell_type": "code",
   "execution_count": 4,
   "id": "f2adf129",
   "metadata": {},
   "outputs": [],
   "source": [
    "mydb = mysql.connector.connect(\n",
    "    host = 'database-2.crmo6w0ei4r1.eu-north-1.rds.amazonaws.com',\n",
    "    port = 3306,\n",
    "    user = 'admin',\n",
    "    password = 'Harish2003_')"
   ]
  },
  {
   "cell_type": "code",
   "execution_count": 5,
   "id": "08a422df",
   "metadata": {},
   "outputs": [],
   "source": [
    "mycursor = mydb.cursor()"
   ]
  },
  {
   "cell_type": "code",
   "execution_count": 6,
   "id": "0abb2fed",
   "metadata": {},
   "outputs": [],
   "source": [
    "mycursor.execute('show databases')"
   ]
  },
  {
   "cell_type": "code",
   "execution_count": 7,
   "id": "53e07f57",
   "metadata": {},
   "outputs": [
    {
     "data": {
      "text/plain": [
       "[('chefmate',),\n",
       " ('information_schema',),\n",
       " ('mysql',),\n",
       " ('performance_schema',),\n",
       " ('sys',)]"
      ]
     },
     "execution_count": 7,
     "metadata": {},
     "output_type": "execute_result"
    }
   ],
   "source": [
    "mycursor.fetchall()"
   ]
  },
  {
   "cell_type": "code",
   "execution_count": 9,
   "id": "b4b7abec",
   "metadata": {},
   "outputs": [],
   "source": [
    "mycursor.execute('create database zomato')\n",
    "\n",
    "mydb.commit()"
   ]
  },
  {
   "cell_type": "code",
   "execution_count": 10,
   "id": "9c980ae0",
   "metadata": {},
   "outputs": [
    {
     "data": {
      "text/plain": [
       "[('chefmate',),\n",
       " ('information_schema',),\n",
       " ('mysql',),\n",
       " ('performance_schema',),\n",
       " ('sys',),\n",
       " ('zomato',)]"
      ]
     },
     "execution_count": 10,
     "metadata": {},
     "output_type": "execute_result"
    }
   ],
   "source": [
    "mycursor.execute('show databases')\n",
    "\n",
    "mycursor.fetchall()"
   ]
  },
  {
   "cell_type": "code",
   "execution_count": 11,
   "id": "f400ade0",
   "metadata": {},
   "outputs": [],
   "source": [
    "server = 'database-2.crmo6w0ei4r1.eu-north-1.rds.amazonaws.com'\n",
    "port = 3306\n",
    "user = 'admin'\n",
    "password = 'Harish2003_'\n",
    "database = 'zomato'\n",
    "sqltype = \"mysql+mysqlconnector\"\n",
    "\n",
    "engine = sqlalchemy.create_engine(f'{sqltype}://{user}:{password}@{server}:{port}/{database}')"
   ]
  },
  {
   "cell_type": "code",
   "execution_count": 12,
   "id": "88111102",
   "metadata": {},
   "outputs": [],
   "source": [
    "# Load the cleaned data\n",
    "df = pd.read_csv(r\"C:\\Users\\Lenovo\\Downloads\\project 6\\Zomato_cleaned_data.csv\")"
   ]
  },
  {
   "cell_type": "code",
   "execution_count": 13,
   "id": "036d5c89",
   "metadata": {},
   "outputs": [
    {
     "data": {
      "text/plain": [
       "29753"
      ]
     },
     "execution_count": 13,
     "metadata": {},
     "output_type": "execute_result"
    }
   ],
   "source": [
    "df.to_sql(\"restaurant\",con=engine,if_exists = 'replace')"
   ]
  },
  {
   "cell_type": "raw",
   "id": "84f5002d",
   "metadata": {},
   "source": [
    "#SQL query\n",
    "#query = \"SELECT * FROM restaurant\"\n",
    "#Load data into a DataFrame\n",
    "#df = pd.read_sql(query, engine)"
   ]
  },
  {
   "cell_type": "raw",
   "id": "2fb103cf",
   "metadata": {},
   "source": [
    "# remove one index\n",
    "#df = df.drop(columns=['index'])"
   ]
  }
 ],
 "metadata": {
  "kernelspec": {
   "display_name": "Python 3 (ipykernel)",
   "language": "python",
   "name": "python3"
  },
  "language_info": {
   "codemirror_mode": {
    "name": "ipython",
    "version": 3
   },
   "file_extension": ".py",
   "mimetype": "text/x-python",
   "name": "python",
   "nbconvert_exporter": "python",
   "pygments_lexer": "ipython3",
   "version": "3.9.12"
  }
 },
 "nbformat": 4,
 "nbformat_minor": 5
}
